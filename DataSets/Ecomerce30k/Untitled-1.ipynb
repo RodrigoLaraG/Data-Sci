{
 "cells": [
  {
   "cell_type": "markdown",
   "metadata": {},
   "source": [
    "## Analise de Dados - FashionDataset"
   ]
  },
  {
   "cell_type": "markdown",
   "metadata": {},
   "source": [
    "## Importação de Dados"
   ]
  },
  {
   "cell_type": "code",
   "execution_count": 1,
   "metadata": {},
   "outputs": [],
   "source": [
    "import pandas as pd\n",
    "import numpy as np"
   ]
  },
  {
   "cell_type": "code",
   "execution_count": 2,
   "metadata": {},
   "outputs": [],
   "source": [
    "df = pd.read_csv(\"FashionDataset.csv\")"
   ]
  },
  {
   "cell_type": "code",
   "execution_count": 17,
   "metadata": {},
   "outputs": [
    {
     "data": {
      "text/html": [
       "<div>\n",
       "<style scoped>\n",
       "    .dataframe tbody tr th:only-of-type {\n",
       "        vertical-align: middle;\n",
       "    }\n",
       "\n",
       "    .dataframe tbody tr th {\n",
       "        vertical-align: top;\n",
       "    }\n",
       "\n",
       "    .dataframe thead th {\n",
       "        text-align: right;\n",
       "    }\n",
       "</style>\n",
       "<table border=\"1\" class=\"dataframe\">\n",
       "  <thead>\n",
       "    <tr style=\"text-align: right;\">\n",
       "      <th></th>\n",
       "      <th>BrandName</th>\n",
       "      <th>Deatils</th>\n",
       "      <th>Sizes</th>\n",
       "      <th>MRP</th>\n",
       "      <th>SellPrice</th>\n",
       "      <th>Discount</th>\n",
       "      <th>Category</th>\n",
       "    </tr>\n",
       "  </thead>\n",
       "  <tbody>\n",
       "    <tr>\n",
       "      <th>0</th>\n",
       "      <td>life</td>\n",
       "      <td>solid cotton blend collar neck womens a-line d...</td>\n",
       "      <td>Size:Large,Medium,Small,X-Large,X-Small</td>\n",
       "      <td>1699.0</td>\n",
       "      <td>849</td>\n",
       "      <td>50</td>\n",
       "      <td>Westernwear-Women</td>\n",
       "    </tr>\n",
       "    <tr>\n",
       "      <th>1</th>\n",
       "      <td>only</td>\n",
       "      <td>polyester peter pan collar womens blouson dres...</td>\n",
       "      <td>Size:34,36,38,40</td>\n",
       "      <td>3499.0</td>\n",
       "      <td>2449</td>\n",
       "      <td>30</td>\n",
       "      <td>Westernwear-Women</td>\n",
       "    </tr>\n",
       "    <tr>\n",
       "      <th>2</th>\n",
       "      <td>fratini</td>\n",
       "      <td>solid polyester blend wide neck womens regular...</td>\n",
       "      <td>Size:Large,X-Large,XX-Large</td>\n",
       "      <td>1199.0</td>\n",
       "      <td>599</td>\n",
       "      <td>50</td>\n",
       "      <td>Westernwear-Women</td>\n",
       "    </tr>\n",
       "    <tr>\n",
       "      <th>3</th>\n",
       "      <td>zink london</td>\n",
       "      <td>stripes polyester sweetheart neck womens dress...</td>\n",
       "      <td>Size:Large,Medium,Small,X-Large</td>\n",
       "      <td>2299.0</td>\n",
       "      <td>1379</td>\n",
       "      <td>40</td>\n",
       "      <td>Westernwear-Women</td>\n",
       "    </tr>\n",
       "    <tr>\n",
       "      <th>4</th>\n",
       "      <td>life</td>\n",
       "      <td>regular fit regular length denim womens jeans ...</td>\n",
       "      <td>Size:26,28,30,32,34,36</td>\n",
       "      <td>1699.0</td>\n",
       "      <td>849</td>\n",
       "      <td>50</td>\n",
       "      <td>Westernwear-Women</td>\n",
       "    </tr>\n",
       "  </tbody>\n",
       "</table>\n",
       "</div>"
      ],
      "text/plain": [
       "     BrandName                                            Deatils  \\\n",
       "0         life  solid cotton blend collar neck womens a-line d...   \n",
       "1         only  polyester peter pan collar womens blouson dres...   \n",
       "2      fratini  solid polyester blend wide neck womens regular...   \n",
       "3  zink london  stripes polyester sweetheart neck womens dress...   \n",
       "4         life  regular fit regular length denim womens jeans ...   \n",
       "\n",
       "                                     Sizes     MRP  SellPrice  Discount  \\\n",
       "0  Size:Large,Medium,Small,X-Large,X-Small  1699.0        849        50   \n",
       "1                         Size:34,36,38,40  3499.0       2449        30   \n",
       "2              Size:Large,X-Large,XX-Large  1199.0        599        50   \n",
       "3          Size:Large,Medium,Small,X-Large  2299.0       1379        40   \n",
       "4                   Size:26,28,30,32,34,36  1699.0        849        50   \n",
       "\n",
       "            Category  \n",
       "0  Westernwear-Women  \n",
       "1  Westernwear-Women  \n",
       "2  Westernwear-Women  \n",
       "3  Westernwear-Women  \n",
       "4  Westernwear-Women  "
      ]
     },
     "execution_count": 17,
     "metadata": {},
     "output_type": "execute_result"
    }
   ],
   "source": [
    "df.head()"
   ]
  },
  {
   "cell_type": "markdown",
   "metadata": {},
   "source": [
    "### Lista do Que precisa ser feito\n",
    "\n",
    "- Duplicadas: Drop OK\n",
    "- Index - Drop OK\n",
    "- Sizes, Separar em Dicts/Tamanhos etc\n",
    "- Details, separar em diferentes tipos, analisar [cor, material, corte, tipo, etc]\n",
    "- MRP - Regex, toInt, Fillna c/ SellPrice OK\n",
    "- SellPrice Regex, Toint OK\n",
    "- Discount Regex, Toint OK\n",
    "- Category OK"
   ]
  },
  {
   "cell_type": "markdown",
   "metadata": {},
   "source": [
    "drop de duplicadas e index repetido"
   ]
  },
  {
   "cell_type": "code",
   "execution_count": 4,
   "metadata": {},
   "outputs": [],
   "source": [
    "df.drop(columns=[\"Unnamed: 0\"], inplace=True)"
   ]
  },
  {
   "cell_type": "code",
   "execution_count": 5,
   "metadata": {},
   "outputs": [],
   "source": [
    "df.drop_duplicates(inplace=True)"
   ]
  },
  {
   "cell_type": "code",
   "execution_count": 58,
   "metadata": {},
   "outputs": [],
   "source": [
    "df.rename(columns={\"Deatils\" : \"Details\"}, inplace=True)"
   ]
  },
  {
   "cell_type": "code",
   "execution_count": 91,
   "metadata": {},
   "outputs": [
    {
     "name": "stdout",
     "output_type": "stream",
     "text": [
      "<class 'pandas.core.frame.DataFrame'>\n",
      "Int64Index: 27924 entries, 0 to 30757\n",
      "Data columns (total 7 columns):\n",
      " #   Column     Non-Null Count  Dtype  \n",
      "---  ------     --------------  -----  \n",
      " 0   BrandName  27924 non-null  object \n",
      " 1   Details    27924 non-null  object \n",
      " 2   Sizes      22687 non-null  object \n",
      " 3   MRP        27924 non-null  float64\n",
      " 4   SellPrice  27924 non-null  int64  \n",
      " 5   Discount   27924 non-null  int64  \n",
      " 6   Category   27924 non-null  object \n",
      "dtypes: float64(1), int64(2), object(4)\n",
      "memory usage: 1.7+ MB\n"
     ]
    }
   ],
   "source": [
    "df.info()"
   ]
  },
  {
   "cell_type": "code",
   "execution_count": 7,
   "metadata": {},
   "outputs": [
    {
     "data": {
      "text/plain": [
       "Index(['BrandName', 'Deatils', 'Sizes', 'MRP', 'SellPrice', 'Discount',\n",
       "       'Category'],\n",
       "      dtype='object')"
      ]
     },
     "execution_count": 7,
     "metadata": {},
     "output_type": "execute_result"
    }
   ],
   "source": [
    "df.columns"
   ]
  },
  {
   "cell_type": "markdown",
   "metadata": {},
   "source": [
    "##### Limpeza de Colunas MRP, Size, SellPrice Discount \n",
    "texto p/ float/int"
   ]
  },
  {
   "cell_type": "code",
   "execution_count": null,
   "metadata": {},
   "outputs": [],
   "source": [
    "df.Sizes = df.Sizes.str.lstrip(\"Size:\")"
   ]
  },
  {
   "cell_type": "code",
   "execution_count": 8,
   "metadata": {},
   "outputs": [],
   "source": [
    "df.Discount = df.Discount.str.rstrip(\"% off\")\n",
    "df.Discount[df.Discount == \"Nan\"] = \"0\"\n",
    "df.Discount = pd.to_numeric(df.Discount)"
   ]
  },
  {
   "cell_type": "code",
   "execution_count": 9,
   "metadata": {},
   "outputs": [
    {
     "data": {
      "text/html": [
       "<div>\n",
       "<style scoped>\n",
       "    .dataframe tbody tr th:only-of-type {\n",
       "        vertical-align: middle;\n",
       "    }\n",
       "\n",
       "    .dataframe tbody tr th {\n",
       "        vertical-align: top;\n",
       "    }\n",
       "\n",
       "    .dataframe thead th {\n",
       "        text-align: right;\n",
       "    }\n",
       "</style>\n",
       "<table border=\"1\" class=\"dataframe\">\n",
       "  <thead>\n",
       "    <tr style=\"text-align: right;\">\n",
       "      <th></th>\n",
       "      <th>BrandName</th>\n",
       "      <th>Deatils</th>\n",
       "      <th>Sizes</th>\n",
       "      <th>MRP</th>\n",
       "      <th>SellPrice</th>\n",
       "      <th>Discount</th>\n",
       "      <th>Category</th>\n",
       "    </tr>\n",
       "  </thead>\n",
       "  <tbody>\n",
       "    <tr>\n",
       "      <th>0</th>\n",
       "      <td>life</td>\n",
       "      <td>solid cotton blend collar neck womens a-line d...</td>\n",
       "      <td>Size:Large,Medium,Small,X-Large,X-Small</td>\n",
       "      <td>Rs\\n1699</td>\n",
       "      <td>849</td>\n",
       "      <td>50</td>\n",
       "      <td>Westernwear-Women</td>\n",
       "    </tr>\n",
       "    <tr>\n",
       "      <th>1</th>\n",
       "      <td>only</td>\n",
       "      <td>polyester peter pan collar womens blouson dres...</td>\n",
       "      <td>Size:34,36,38,40</td>\n",
       "      <td>Rs\\n3499</td>\n",
       "      <td>2449</td>\n",
       "      <td>30</td>\n",
       "      <td>Westernwear-Women</td>\n",
       "    </tr>\n",
       "    <tr>\n",
       "      <th>2</th>\n",
       "      <td>fratini</td>\n",
       "      <td>solid polyester blend wide neck womens regular...</td>\n",
       "      <td>Size:Large,X-Large,XX-Large</td>\n",
       "      <td>Rs\\n1199</td>\n",
       "      <td>599</td>\n",
       "      <td>50</td>\n",
       "      <td>Westernwear-Women</td>\n",
       "    </tr>\n",
       "    <tr>\n",
       "      <th>3</th>\n",
       "      <td>zink london</td>\n",
       "      <td>stripes polyester sweetheart neck womens dress...</td>\n",
       "      <td>Size:Large,Medium,Small,X-Large</td>\n",
       "      <td>Rs\\n2299</td>\n",
       "      <td>1379</td>\n",
       "      <td>40</td>\n",
       "      <td>Westernwear-Women</td>\n",
       "    </tr>\n",
       "    <tr>\n",
       "      <th>4</th>\n",
       "      <td>life</td>\n",
       "      <td>regular fit regular length denim womens jeans ...</td>\n",
       "      <td>Size:26,28,30,32,34,36</td>\n",
       "      <td>Rs\\n1699</td>\n",
       "      <td>849</td>\n",
       "      <td>50</td>\n",
       "      <td>Westernwear-Women</td>\n",
       "    </tr>\n",
       "    <tr>\n",
       "      <th>...</th>\n",
       "      <td>...</td>\n",
       "      <td>...</td>\n",
       "      <td>...</td>\n",
       "      <td>...</td>\n",
       "      <td>...</td>\n",
       "      <td>...</td>\n",
       "      <td>...</td>\n",
       "    </tr>\n",
       "    <tr>\n",
       "      <th>30752</th>\n",
       "      <td>shaya by caratlane</td>\n",
       "      <td>the wing woman clover charm necklace</td>\n",
       "      <td>Nan</td>\n",
       "      <td>Nan</td>\n",
       "      <td>1250</td>\n",
       "      <td>0</td>\n",
       "      <td>Jewellery-Women</td>\n",
       "    </tr>\n",
       "    <tr>\n",
       "      <th>30753</th>\n",
       "      <td>swarovski</td>\n",
       "      <td>crystal stylish womens rodhium earrings</td>\n",
       "      <td>Nan</td>\n",
       "      <td>Nan</td>\n",
       "      <td>8950</td>\n",
       "      <td>0</td>\n",
       "      <td>Jewellery-Women</td>\n",
       "    </tr>\n",
       "    <tr>\n",
       "      <th>30755</th>\n",
       "      <td>jewelz</td>\n",
       "      <td>ethnic gold plated jhumki earrings</td>\n",
       "      <td>Nan</td>\n",
       "      <td>Rs\\n1839</td>\n",
       "      <td>643</td>\n",
       "      <td>65</td>\n",
       "      <td>Jewellery-Women</td>\n",
       "    </tr>\n",
       "    <tr>\n",
       "      <th>30756</th>\n",
       "      <td>estelle</td>\n",
       "      <td>womens gold plated double line fancy white and...</td>\n",
       "      <td>Nan</td>\n",
       "      <td>Nan</td>\n",
       "      <td>2799</td>\n",
       "      <td>0</td>\n",
       "      <td>Jewellery-Women</td>\n",
       "    </tr>\n",
       "    <tr>\n",
       "      <th>30757</th>\n",
       "      <td>estelle</td>\n",
       "      <td>womens gold plated bridge designer mangalsutra...</td>\n",
       "      <td>Nan</td>\n",
       "      <td>Nan</td>\n",
       "      <td>1899</td>\n",
       "      <td>0</td>\n",
       "      <td>Jewellery-Women</td>\n",
       "    </tr>\n",
       "  </tbody>\n",
       "</table>\n",
       "<p>27931 rows × 7 columns</p>\n",
       "</div>"
      ],
      "text/plain": [
       "                BrandName                                            Deatils  \\\n",
       "0                    life  solid cotton blend collar neck womens a-line d...   \n",
       "1                    only  polyester peter pan collar womens blouson dres...   \n",
       "2                 fratini  solid polyester blend wide neck womens regular...   \n",
       "3             zink london  stripes polyester sweetheart neck womens dress...   \n",
       "4                    life  regular fit regular length denim womens jeans ...   \n",
       "...                   ...                                                ...   \n",
       "30752  shaya by caratlane               the wing woman clover charm necklace   \n",
       "30753           swarovski            crystal stylish womens rodhium earrings   \n",
       "30755              jewelz                 ethnic gold plated jhumki earrings   \n",
       "30756             estelle  womens gold plated double line fancy white and...   \n",
       "30757             estelle  womens gold plated bridge designer mangalsutra...   \n",
       "\n",
       "                                         Sizes       MRP SellPrice  Discount  \\\n",
       "0      Size:Large,Medium,Small,X-Large,X-Small  Rs\\n1699       849        50   \n",
       "1                             Size:34,36,38,40  Rs\\n3499      2449        30   \n",
       "2                  Size:Large,X-Large,XX-Large  Rs\\n1199       599        50   \n",
       "3              Size:Large,Medium,Small,X-Large  Rs\\n2299      1379        40   \n",
       "4                       Size:26,28,30,32,34,36  Rs\\n1699       849        50   \n",
       "...                                        ...       ...       ...       ...   \n",
       "30752                                      Nan       Nan      1250         0   \n",
       "30753                                      Nan       Nan      8950         0   \n",
       "30755                                      Nan  Rs\\n1839       643        65   \n",
       "30756                                      Nan       Nan      2799         0   \n",
       "30757                                      Nan       Nan      1899         0   \n",
       "\n",
       "                Category  \n",
       "0      Westernwear-Women  \n",
       "1      Westernwear-Women  \n",
       "2      Westernwear-Women  \n",
       "3      Westernwear-Women  \n",
       "4      Westernwear-Women  \n",
       "...                  ...  \n",
       "30752    Jewellery-Women  \n",
       "30753    Jewellery-Women  \n",
       "30755    Jewellery-Women  \n",
       "30756    Jewellery-Women  \n",
       "30757    Jewellery-Women  \n",
       "\n",
       "[27931 rows x 7 columns]"
      ]
     },
     "execution_count": 9,
     "metadata": {},
     "output_type": "execute_result"
    }
   ],
   "source": [
    "df.SellPrice[df.SellPrice == \"Nan\"] == np.nan\n",
    "df.dropna()"
   ]
  },
  {
   "cell_type": "code",
   "execution_count": 10,
   "metadata": {},
   "outputs": [
    {
     "name": "stderr",
     "output_type": "stream",
     "text": [
      "<ipython-input-10-afafd0d74327>:1: SettingWithCopyWarning: \n",
      "A value is trying to be set on a copy of a slice from a DataFrame\n",
      "\n",
      "See the caveats in the documentation: https://pandas.pydata.org/pandas-docs/stable/user_guide/indexing.html#returning-a-view-versus-a-copy\n",
      "  df.SellPrice[df.SellPrice == \"Nan\"] = np.nan\n"
     ]
    }
   ],
   "source": [
    "df.SellPrice[df.SellPrice == \"Nan\"] = np.nan\n",
    "df.dropna(subset = [\"SellPrice\"], inplace = True)\n",
    "df.SellPrice = pd.to_numeric(df.SellPrice)"
   ]
  },
  {
   "cell_type": "code",
   "execution_count": 11,
   "metadata": {},
   "outputs": [
    {
     "name": "stderr",
     "output_type": "stream",
     "text": [
      "<ipython-input-11-4d97eae2340f>:1: SettingWithCopyWarning: \n",
      "A value is trying to be set on a copy of a slice from a DataFrame\n",
      "\n",
      "See the caveats in the documentation: https://pandas.pydata.org/pandas-docs/stable/user_guide/indexing.html#returning-a-view-versus-a-copy\n",
      "  df.MRP[df.MRP == \"Nan\"] = np.nan\n"
     ]
    }
   ],
   "source": [
    "df.MRP[df.MRP == \"Nan\"] = np.nan\n",
    "df.MRP = df.MRP.str.lstrip(\"Rs\\n\")\n",
    "df.MRP = pd.to_numeric(df.MRP)\n",
    "df.MRP.fillna(df.SellPrice, inplace=True)"
   ]
  },
  {
   "cell_type": "code",
   "execution_count": 16,
   "metadata": {},
   "outputs": [
    {
     "name": "stdout",
     "output_type": "stream",
     "text": [
      "<class 'pandas.core.frame.DataFrame'>\n",
      "Int64Index: 27924 entries, 0 to 30757\n",
      "Data columns (total 7 columns):\n",
      " #   Column     Non-Null Count  Dtype  \n",
      "---  ------     --------------  -----  \n",
      " 0   BrandName  27924 non-null  object \n",
      " 1   Deatils    27924 non-null  object \n",
      " 2   Sizes      27924 non-null  object \n",
      " 3   MRP        27924 non-null  float64\n",
      " 4   SellPrice  27924 non-null  int64  \n",
      " 5   Discount   27924 non-null  int64  \n",
      " 6   Category   27924 non-null  object \n",
      "dtypes: float64(1), int64(2), object(4)\n",
      "memory usage: 1.7+ MB\n"
     ]
    }
   ],
   "source": [
    "df.info()"
   ]
  },
  {
   "cell_type": "markdown",
   "metadata": {},
   "source": [
    "#### Analise por Cima de Gropupby Por categoria\n"
   ]
  },
  {
   "cell_type": "code",
   "execution_count": 18,
   "metadata": {},
   "outputs": [
    {
     "data": {
      "text/html": [
       "<div>\n",
       "<style scoped>\n",
       "    .dataframe tbody tr th:only-of-type {\n",
       "        vertical-align: middle;\n",
       "    }\n",
       "\n",
       "    .dataframe tbody tr th {\n",
       "        vertical-align: top;\n",
       "    }\n",
       "\n",
       "    .dataframe thead th {\n",
       "        text-align: right;\n",
       "    }\n",
       "</style>\n",
       "<table border=\"1\" class=\"dataframe\">\n",
       "  <thead>\n",
       "    <tr style=\"text-align: right;\">\n",
       "      <th></th>\n",
       "      <th>Category</th>\n",
       "      <th>BrandName</th>\n",
       "      <th>Deatils</th>\n",
       "      <th>Sizes</th>\n",
       "      <th>MRP</th>\n",
       "      <th>SellPrice</th>\n",
       "      <th>Discount</th>\n",
       "    </tr>\n",
       "  </thead>\n",
       "  <tbody>\n",
       "    <tr>\n",
       "      <th>0</th>\n",
       "      <td>Footwear-Women</td>\n",
       "      <td>30</td>\n",
       "      <td>1693</td>\n",
       "      <td>200</td>\n",
       "      <td>134</td>\n",
       "      <td>281</td>\n",
       "      <td>44</td>\n",
       "    </tr>\n",
       "    <tr>\n",
       "      <th>1</th>\n",
       "      <td>Fragrance-Women</td>\n",
       "      <td>76</td>\n",
       "      <td>474</td>\n",
       "      <td>2</td>\n",
       "      <td>184</td>\n",
       "      <td>247</td>\n",
       "      <td>7</td>\n",
       "    </tr>\n",
       "    <tr>\n",
       "      <th>2</th>\n",
       "      <td>Indianwear-Women</td>\n",
       "      <td>52</td>\n",
       "      <td>7580</td>\n",
       "      <td>374</td>\n",
       "      <td>676</td>\n",
       "      <td>900</td>\n",
       "      <td>20</td>\n",
       "    </tr>\n",
       "    <tr>\n",
       "      <th>3</th>\n",
       "      <td>Jewellery-Women</td>\n",
       "      <td>31</td>\n",
       "      <td>1509</td>\n",
       "      <td>1</td>\n",
       "      <td>238</td>\n",
       "      <td>365</td>\n",
       "      <td>14</td>\n",
       "    </tr>\n",
       "    <tr>\n",
       "      <th>4</th>\n",
       "      <td>Lingerie&amp;Nightwear-Women</td>\n",
       "      <td>40</td>\n",
       "      <td>2704</td>\n",
       "      <td>540</td>\n",
       "      <td>264</td>\n",
       "      <td>418</td>\n",
       "      <td>21</td>\n",
       "    </tr>\n",
       "  </tbody>\n",
       "</table>\n",
       "</div>"
      ],
      "text/plain": [
       "                   Category  BrandName  Deatils  Sizes  MRP  SellPrice  \\\n",
       "0            Footwear-Women         30     1693    200  134        281   \n",
       "1           Fragrance-Women         76      474      2  184        247   \n",
       "2          Indianwear-Women         52     7580    374  676        900   \n",
       "3           Jewellery-Women         31     1509      1  238        365   \n",
       "4  Lingerie&Nightwear-Women         40     2704    540  264        418   \n",
       "\n",
       "   Discount  \n",
       "0        44  \n",
       "1         7  \n",
       "2        20  \n",
       "3        14  \n",
       "4        21  "
      ]
     },
     "execution_count": 18,
     "metadata": {},
     "output_type": "execute_result"
    }
   ],
   "source": [
    "dfCat = df.groupby([\"Category\"]).nunique().reset_index()"
   ]
  },
  {
   "cell_type": "markdown",
   "metadata": {},
   "source": [
    "quantidades de marcas distintas que cada categoria possui"
   ]
  },
  {
   "cell_type": "code",
   "execution_count": 29,
   "metadata": {},
   "outputs": [
    {
     "data": {
      "text/html": [
       "<div>\n",
       "<style scoped>\n",
       "    .dataframe tbody tr th:only-of-type {\n",
       "        vertical-align: middle;\n",
       "    }\n",
       "\n",
       "    .dataframe tbody tr th {\n",
       "        vertical-align: top;\n",
       "    }\n",
       "\n",
       "    .dataframe thead th {\n",
       "        text-align: right;\n",
       "    }\n",
       "</style>\n",
       "<table border=\"1\" class=\"dataframe\">\n",
       "  <thead>\n",
       "    <tr style=\"text-align: right;\">\n",
       "      <th></th>\n",
       "      <th>Category</th>\n",
       "      <th>BrandName</th>\n",
       "    </tr>\n",
       "  </thead>\n",
       "  <tbody>\n",
       "    <tr>\n",
       "      <th>0</th>\n",
       "      <td>Footwear-Women</td>\n",
       "      <td>30</td>\n",
       "    </tr>\n",
       "    <tr>\n",
       "      <th>1</th>\n",
       "      <td>Fragrance-Women</td>\n",
       "      <td>76</td>\n",
       "    </tr>\n",
       "    <tr>\n",
       "      <th>2</th>\n",
       "      <td>Indianwear-Women</td>\n",
       "      <td>52</td>\n",
       "    </tr>\n",
       "    <tr>\n",
       "      <th>3</th>\n",
       "      <td>Jewellery-Women</td>\n",
       "      <td>31</td>\n",
       "    </tr>\n",
       "    <tr>\n",
       "      <th>4</th>\n",
       "      <td>Lingerie&amp;Nightwear-Women</td>\n",
       "      <td>40</td>\n",
       "    </tr>\n",
       "    <tr>\n",
       "      <th>5</th>\n",
       "      <td>Watches-Women</td>\n",
       "      <td>42</td>\n",
       "    </tr>\n",
       "    <tr>\n",
       "      <th>6</th>\n",
       "      <td>Westernwear-Women</td>\n",
       "      <td>101</td>\n",
       "    </tr>\n",
       "  </tbody>\n",
       "</table>\n",
       "</div>"
      ],
      "text/plain": [
       "                   Category  BrandName\n",
       "0            Footwear-Women         30\n",
       "1           Fragrance-Women         76\n",
       "2          Indianwear-Women         52\n",
       "3           Jewellery-Women         31\n",
       "4  Lingerie&Nightwear-Women         40\n",
       "5             Watches-Women         42\n",
       "6         Westernwear-Women        101"
      ]
     },
     "execution_count": 29,
     "metadata": {},
     "output_type": "execute_result"
    }
   ],
   "source": [
    "dfCat[[\"Category\", \"BrandName\"]].head(10)"
   ]
  },
  {
   "cell_type": "markdown",
   "metadata": {},
   "source": [
    "preço medio de venda/mrp/desconto de cada categoria"
   ]
  },
  {
   "cell_type": "code",
   "execution_count": 25,
   "metadata": {},
   "outputs": [
    {
     "data": {
      "text/html": [
       "<div>\n",
       "<style scoped>\n",
       "    .dataframe tbody tr th:only-of-type {\n",
       "        vertical-align: middle;\n",
       "    }\n",
       "\n",
       "    .dataframe tbody tr th {\n",
       "        vertical-align: top;\n",
       "    }\n",
       "\n",
       "    .dataframe thead th {\n",
       "        text-align: right;\n",
       "    }\n",
       "</style>\n",
       "<table border=\"1\" class=\"dataframe\">\n",
       "  <thead>\n",
       "    <tr style=\"text-align: right;\">\n",
       "      <th></th>\n",
       "      <th>Category</th>\n",
       "      <th>MRP</th>\n",
       "      <th>SellPrice</th>\n",
       "      <th>Discount</th>\n",
       "    </tr>\n",
       "  </thead>\n",
       "  <tbody>\n",
       "    <tr>\n",
       "      <th>0</th>\n",
       "      <td>Footwear-Women</td>\n",
       "      <td>2963.676570</td>\n",
       "      <td>2235.207980</td>\n",
       "      <td>26.383701</td>\n",
       "    </tr>\n",
       "    <tr>\n",
       "      <th>1</th>\n",
       "      <td>Fragrance-Women</td>\n",
       "      <td>4286.354430</td>\n",
       "      <td>3979.605485</td>\n",
       "      <td>8.417722</td>\n",
       "    </tr>\n",
       "    <tr>\n",
       "      <th>2</th>\n",
       "      <td>Indianwear-Women</td>\n",
       "      <td>2571.936560</td>\n",
       "      <td>1440.095329</td>\n",
       "      <td>41.461262</td>\n",
       "    </tr>\n",
       "    <tr>\n",
       "      <th>3</th>\n",
       "      <td>Jewellery-Women</td>\n",
       "      <td>2756.591078</td>\n",
       "      <td>2185.166047</td>\n",
       "      <td>25.519207</td>\n",
       "    </tr>\n",
       "    <tr>\n",
       "      <th>4</th>\n",
       "      <td>Lingerie&amp;Nightwear-Women</td>\n",
       "      <td>1256.982879</td>\n",
       "      <td>921.558656</td>\n",
       "      <td>26.970831</td>\n",
       "    </tr>\n",
       "    <tr>\n",
       "      <th>5</th>\n",
       "      <td>Watches-Women</td>\n",
       "      <td>10555.826061</td>\n",
       "      <td>8658.849057</td>\n",
       "      <td>19.737618</td>\n",
       "    </tr>\n",
       "    <tr>\n",
       "      <th>6</th>\n",
       "      <td>Westernwear-Women</td>\n",
       "      <td>2033.059749</td>\n",
       "      <td>1325.498972</td>\n",
       "      <td>35.883896</td>\n",
       "    </tr>\n",
       "  </tbody>\n",
       "</table>\n",
       "</div>"
      ],
      "text/plain": [
       "                   Category           MRP    SellPrice   Discount\n",
       "0            Footwear-Women   2963.676570  2235.207980  26.383701\n",
       "1           Fragrance-Women   4286.354430  3979.605485   8.417722\n",
       "2          Indianwear-Women   2571.936560  1440.095329  41.461262\n",
       "3           Jewellery-Women   2756.591078  2185.166047  25.519207\n",
       "4  Lingerie&Nightwear-Women   1256.982879   921.558656  26.970831\n",
       "5             Watches-Women  10555.826061  8658.849057  19.737618\n",
       "6         Westernwear-Women   2033.059749  1325.498972  35.883896"
      ]
     },
     "execution_count": 25,
     "metadata": {},
     "output_type": "execute_result"
    }
   ],
   "source": [
    "dfCat2 = df.groupby([\"Category\"]).mean().reset_index()\n",
    "dfCat2.head(7)"
   ]
  },
  {
   "cell_type": "markdown",
   "metadata": {},
   "source": [
    "máximo preço/mrp/desconto de cada categoria"
   ]
  },
  {
   "cell_type": "code",
   "execution_count": 28,
   "metadata": {},
   "outputs": [
    {
     "data": {
      "text/html": [
       "<div>\n",
       "<style scoped>\n",
       "    .dataframe tbody tr th:only-of-type {\n",
       "        vertical-align: middle;\n",
       "    }\n",
       "\n",
       "    .dataframe tbody tr th {\n",
       "        vertical-align: top;\n",
       "    }\n",
       "\n",
       "    .dataframe thead th {\n",
       "        text-align: right;\n",
       "    }\n",
       "</style>\n",
       "<table border=\"1\" class=\"dataframe\">\n",
       "  <thead>\n",
       "    <tr style=\"text-align: right;\">\n",
       "      <th></th>\n",
       "      <th>Category</th>\n",
       "      <th>MRP</th>\n",
       "      <th>SellPrice</th>\n",
       "      <th>Discount</th>\n",
       "    </tr>\n",
       "  </thead>\n",
       "  <tbody>\n",
       "    <tr>\n",
       "      <th>0</th>\n",
       "      <td>Footwear-Women</td>\n",
       "      <td>10999.0</td>\n",
       "      <td>10999</td>\n",
       "      <td>78</td>\n",
       "    </tr>\n",
       "    <tr>\n",
       "      <th>1</th>\n",
       "      <td>Fragrance-Women</td>\n",
       "      <td>19800.0</td>\n",
       "      <td>19800</td>\n",
       "      <td>50</td>\n",
       "    </tr>\n",
       "    <tr>\n",
       "      <th>2</th>\n",
       "      <td>Indianwear-Women</td>\n",
       "      <td>16999.0</td>\n",
       "      <td>13599</td>\n",
       "      <td>85</td>\n",
       "    </tr>\n",
       "    <tr>\n",
       "      <th>3</th>\n",
       "      <td>Jewellery-Women</td>\n",
       "      <td>31000.0</td>\n",
       "      <td>31000</td>\n",
       "      <td>70</td>\n",
       "    </tr>\n",
       "    <tr>\n",
       "      <th>4</th>\n",
       "      <td>Lingerie&amp;Nightwear-Women</td>\n",
       "      <td>5290.0</td>\n",
       "      <td>3799</td>\n",
       "      <td>80</td>\n",
       "    </tr>\n",
       "    <tr>\n",
       "      <th>5</th>\n",
       "      <td>Watches-Women</td>\n",
       "      <td>142500.0</td>\n",
       "      <td>142500</td>\n",
       "      <td>70</td>\n",
       "    </tr>\n",
       "    <tr>\n",
       "      <th>6</th>\n",
       "      <td>Westernwear-Women</td>\n",
       "      <td>8600.0</td>\n",
       "      <td>8400</td>\n",
       "      <td>80</td>\n",
       "    </tr>\n",
       "  </tbody>\n",
       "</table>\n",
       "</div>"
      ],
      "text/plain": [
       "                   Category       MRP  SellPrice  Discount\n",
       "0            Footwear-Women   10999.0      10999        78\n",
       "1           Fragrance-Women   19800.0      19800        50\n",
       "2          Indianwear-Women   16999.0      13599        85\n",
       "3           Jewellery-Women   31000.0      31000        70\n",
       "4  Lingerie&Nightwear-Women    5290.0       3799        80\n",
       "5             Watches-Women  142500.0     142500        70\n",
       "6         Westernwear-Women    8600.0       8400        80"
      ]
     },
     "execution_count": 28,
     "metadata": {},
     "output_type": "execute_result"
    }
   ],
   "source": [
    "dfCat3 = df.groupby([\"Category\"]).max().reset_index()\n",
    "dfCat3[[\"Category\", \"MRP\", \"SellPrice\", \"Discount\"]].head(7)"
   ]
  },
  {
   "cell_type": "markdown",
   "metadata": {},
   "source": [
    "### Como lidar com tabela details?\n",
    "\n",
    "fazer uma função que conta a quantidade de descriptivos unicos nessa coluna, talvez selecionar um conjunto que seja mais popular, e usar como categoria"
   ]
  },
  {
   "cell_type": "code",
   "execution_count": 31,
   "metadata": {},
   "outputs": [
    {
     "data": {
      "text/plain": [
       "count     27924\n",
       "unique     1172\n",
       "top         Nan\n",
       "freq       5237\n",
       "Name: Sizes, dtype: object"
      ]
     },
     "execution_count": 31,
     "metadata": {},
     "output_type": "execute_result"
    }
   ],
   "source": [
    "df.Sizes.describe()"
   ]
  },
  {
   "cell_type": "code",
   "execution_count": 35,
   "metadata": {},
   "outputs": [
    {
     "name": "stderr",
     "output_type": "stream",
     "text": [
      "<ipython-input-35-fd8b6d3e14bf>:1: SettingWithCopyWarning: \n",
      "A value is trying to be set on a copy of a slice from a DataFrame\n",
      "\n",
      "See the caveats in the documentation: https://pandas.pydata.org/pandas-docs/stable/user_guide/indexing.html#returning-a-view-versus-a-copy\n",
      "  df.Sizes[df.Sizes == \"Nan\"] = np.nan\n"
     ]
    }
   ],
   "source": [
    "df.Sizes[df.Sizes == \"Nan\"] = np.nan"
   ]
  },
  {
   "cell_type": "markdown",
   "metadata": {},
   "source": [
    "#### Contagem de quais termos descriptivos são mais populares, pra avaliar quais tornar categorias/se da pra tornarem categorias"
   ]
  },
  {
   "cell_type": "code",
   "execution_count": 72,
   "metadata": {},
   "outputs": [],
   "source": [
    "DetailList = []\n",
    "for i in df.Details:\n",
    "    DetailList += i.split(\" \")\n",
    "\n",
    "DetailSeries = pd.Series(DetailList)\n",
    "DSvc = DetailSeries.value_counts()\n",
    "    "
   ]
  },
  {
   "cell_type": "code",
   "execution_count": 83,
   "metadata": {},
   "outputs": [
    {
     "data": {
      "text/plain": [
       "8"
      ]
     },
     "execution_count": 83,
     "metadata": {},
     "output_type": "execute_result"
    }
   ],
   "source": [
    "DSvc[DSvc >= 5000].count()"
   ]
  },
  {
   "cell_type": "code",
   "execution_count": 81,
   "metadata": {},
   "outputs": [
    {
     "data": {
      "text/plain": [
       "17"
      ]
     },
     "execution_count": 81,
     "metadata": {},
     "output_type": "execute_result"
    }
   ],
   "source": [
    "DSvc[DSvc >= 2500].count()"
   ]
  },
  {
   "cell_type": "code",
   "execution_count": 86,
   "metadata": {},
   "outputs": [
    {
     "data": {
      "text/plain": [
       "-            26140\n",
       "womens       25666\n",
       "neck          9712\n",
       "cotton        6150\n",
       "regular       6116\n",
       "round         5861\n",
       "solid         5803\n",
       "printed       5238\n",
       "fit           4519\n",
       "black         3626\n",
       "polyester     3515\n",
       "kurta         3486\n",
       "top           3176\n",
       "blue          3158\n",
       "wear          3001\n",
       "casual        2968\n",
       "dress         2844\n",
       "blend         2333\n",
       "pink          2260\n",
       "white         2189\n",
       "set           2112\n",
       "dtype: int64"
      ]
     },
     "execution_count": 86,
     "metadata": {},
     "output_type": "execute_result"
    }
   ],
   "source": [
    "DSvc[DSvc >= 2000]"
   ]
  },
  {
   "cell_type": "code",
   "execution_count": 85,
   "metadata": {},
   "outputs": [
    {
     "data": {
      "text/plain": [
       "21"
      ]
     },
     "execution_count": 85,
     "metadata": {},
     "output_type": "execute_result"
    }
   ],
   "source": [
    "DSvc[DSvc >= 2000].count()"
   ]
  },
  {
   "cell_type": "code",
   "execution_count": 88,
   "metadata": {},
   "outputs": [
    {
     "data": {
      "text/plain": [
       "Index(['-', 'womens', 'neck', 'cotton', 'regular', 'round', 'solid', 'printed',\n",
       "       'fit', 'black', 'polyester', 'kurta', 'top', 'blue', 'wear', 'casual',\n",
       "       'dress', 'blend', 'pink', 'white', 'set'],\n",
       "      dtype='object')"
      ]
     },
     "execution_count": 88,
     "metadata": {},
     "output_type": "execute_result"
    }
   ],
   "source": [
    "DSvc[DSvc >= 2000].index"
   ]
  },
  {
   "cell_type": "markdown",
   "metadata": {},
   "source": [
    "'-', \n",
    "'womens',\n",
    "'neck',\n",
    "'cotton',\n",
    "'regular',\n",
    "'round',\n",
    "'solid',\n",
    "'printed',\n",
    "'fit',\n",
    "'black',\n",
    "'polyester',\n",
    "'kurta',\n",
    "'top',\n",
    "'blue',\n",
    "'wear',\n",
    "'casual',\n",
    "'dress',\n",
    "'blend',\n",
    "'pink',\n",
    "'white',\n",
    "'set'"
   ]
  },
  {
   "cell_type": "markdown",
   "metadata": {},
   "source": [
    "\"-, womens, wear\" podem ser removidos da lista pq sozinhos não fazem sentido"
   ]
  },
  {
   "cell_type": "markdown",
   "metadata": {},
   "source": [
    "#### Precisa fazer uma função que faz um split, analisa as palavras, e coloca um 1 na categoria do df"
   ]
  },
  {
   "cell_type": "markdown",
   "metadata": {},
   "source": [
    "### Analise da Coluna \"Sizes\""
   ]
  },
  {
   "cell_type": "code",
   "execution_count": 93,
   "metadata": {},
   "outputs": [
    {
     "data": {
      "text/html": [
       "<div>\n",
       "<style scoped>\n",
       "    .dataframe tbody tr th:only-of-type {\n",
       "        vertical-align: middle;\n",
       "    }\n",
       "\n",
       "    .dataframe tbody tr th {\n",
       "        vertical-align: top;\n",
       "    }\n",
       "\n",
       "    .dataframe thead th {\n",
       "        text-align: right;\n",
       "    }\n",
       "</style>\n",
       "<table border=\"1\" class=\"dataframe\">\n",
       "  <thead>\n",
       "    <tr style=\"text-align: right;\">\n",
       "      <th></th>\n",
       "      <th>BrandName</th>\n",
       "      <th>Details</th>\n",
       "      <th>Sizes</th>\n",
       "      <th>MRP</th>\n",
       "      <th>SellPrice</th>\n",
       "      <th>Discount</th>\n",
       "      <th>Category</th>\n",
       "    </tr>\n",
       "  </thead>\n",
       "  <tbody>\n",
       "    <tr>\n",
       "      <th>640</th>\n",
       "      <td>get wrapped</td>\n",
       "      <td>printed polyester regular length womens casual...</td>\n",
       "      <td>NaN</td>\n",
       "      <td>399.0</td>\n",
       "      <td>399</td>\n",
       "      <td>0</td>\n",
       "      <td>Westernwear-Women</td>\n",
       "    </tr>\n",
       "    <tr>\n",
       "      <th>944</th>\n",
       "      <td>allen solly</td>\n",
       "      <td>printed cotton mens face mask - pack of 3 - white</td>\n",
       "      <td>NaN</td>\n",
       "      <td>599.0</td>\n",
       "      <td>249</td>\n",
       "      <td>58</td>\n",
       "      <td>Westernwear-Women</td>\n",
       "    </tr>\n",
       "    <tr>\n",
       "      <th>1195</th>\n",
       "      <td>get wrapped</td>\n",
       "      <td>printed polyester regular length womens casual...</td>\n",
       "      <td>NaN</td>\n",
       "      <td>399.0</td>\n",
       "      <td>399</td>\n",
       "      <td>0</td>\n",
       "      <td>Westernwear-Women</td>\n",
       "    </tr>\n",
       "    <tr>\n",
       "      <th>1196</th>\n",
       "      <td>life</td>\n",
       "      <td>assorted cotton blend soft finishes womens soc...</td>\n",
       "      <td>NaN</td>\n",
       "      <td>299.0</td>\n",
       "      <td>149</td>\n",
       "      <td>50</td>\n",
       "      <td>Westernwear-Women</td>\n",
       "    </tr>\n",
       "    <tr>\n",
       "      <th>1263</th>\n",
       "      <td>life</td>\n",
       "      <td>cotton nylon womens no show socks - pack of 3 ...</td>\n",
       "      <td>NaN</td>\n",
       "      <td>249.0</td>\n",
       "      <td>124</td>\n",
       "      <td>50</td>\n",
       "      <td>Westernwear-Women</td>\n",
       "    </tr>\n",
       "    <tr>\n",
       "      <th>1409</th>\n",
       "      <td>get wrapped</td>\n",
       "      <td>printed polyester regular length womens casual...</td>\n",
       "      <td>NaN</td>\n",
       "      <td>399.0</td>\n",
       "      <td>399</td>\n",
       "      <td>0</td>\n",
       "      <td>Westernwear-Women</td>\n",
       "    </tr>\n",
       "    <tr>\n",
       "      <th>1794</th>\n",
       "      <td>life</td>\n",
       "      <td>cotton nylon womens ankle sport socks - pack o...</td>\n",
       "      <td>NaN</td>\n",
       "      <td>299.0</td>\n",
       "      <td>149</td>\n",
       "      <td>50</td>\n",
       "      <td>Westernwear-Women</td>\n",
       "    </tr>\n",
       "    <tr>\n",
       "      <th>1901</th>\n",
       "      <td>only</td>\n",
       "      <td>embroidered cotton womens cap - orange</td>\n",
       "      <td>NaN</td>\n",
       "      <td>799.0</td>\n",
       "      <td>639</td>\n",
       "      <td>20</td>\n",
       "      <td>Westernwear-Women</td>\n",
       "    </tr>\n",
       "    <tr>\n",
       "      <th>2155</th>\n",
       "      <td>life</td>\n",
       "      <td>womens 2 ply protective face mask - pack of 5 ...</td>\n",
       "      <td>NaN</td>\n",
       "      <td>149.0</td>\n",
       "      <td>74</td>\n",
       "      <td>50</td>\n",
       "      <td>Westernwear-Women</td>\n",
       "    </tr>\n",
       "    <tr>\n",
       "      <th>2342</th>\n",
       "      <td>only</td>\n",
       "      <td>embroidered cotton womens cap - blue</td>\n",
       "      <td>NaN</td>\n",
       "      <td>999.0</td>\n",
       "      <td>999</td>\n",
       "      <td>0</td>\n",
       "      <td>Westernwear-Women</td>\n",
       "    </tr>\n",
       "    <tr>\n",
       "      <th>2709</th>\n",
       "      <td>get wrapped</td>\n",
       "      <td>printed polyester regular length womens casual...</td>\n",
       "      <td>NaN</td>\n",
       "      <td>399.0</td>\n",
       "      <td>399</td>\n",
       "      <td>0</td>\n",
       "      <td>Westernwear-Women</td>\n",
       "    </tr>\n",
       "    <tr>\n",
       "      <th>2969</th>\n",
       "      <td>life</td>\n",
       "      <td>womens knitted casual socks - blue</td>\n",
       "      <td>NaN</td>\n",
       "      <td>99.0</td>\n",
       "      <td>99</td>\n",
       "      <td>0</td>\n",
       "      <td>Westernwear-Women</td>\n",
       "    </tr>\n",
       "    <tr>\n",
       "      <th>3043</th>\n",
       "      <td>only</td>\n",
       "      <td>solid polyester regular fit womens cap - blue</td>\n",
       "      <td>NaN</td>\n",
       "      <td>1499.0</td>\n",
       "      <td>1049</td>\n",
       "      <td>30</td>\n",
       "      <td>Westernwear-Women</td>\n",
       "    </tr>\n",
       "    <tr>\n",
       "      <th>3344</th>\n",
       "      <td>allen solly</td>\n",
       "      <td>solid cotton regular fit womens face mask - pa...</td>\n",
       "      <td>NaN</td>\n",
       "      <td>599.0</td>\n",
       "      <td>599</td>\n",
       "      <td>0</td>\n",
       "      <td>Westernwear-Women</td>\n",
       "    </tr>\n",
       "    <tr>\n",
       "      <th>3576</th>\n",
       "      <td>only</td>\n",
       "      <td>solid cotton regular fit womens socks - peach</td>\n",
       "      <td>NaN</td>\n",
       "      <td>999.0</td>\n",
       "      <td>699</td>\n",
       "      <td>30</td>\n",
       "      <td>Westernwear-Women</td>\n",
       "    </tr>\n",
       "    <tr>\n",
       "      <th>3671</th>\n",
       "      <td>life</td>\n",
       "      <td>womens knitted casual socks - white</td>\n",
       "      <td>NaN</td>\n",
       "      <td>99.0</td>\n",
       "      <td>99</td>\n",
       "      <td>0</td>\n",
       "      <td>Westernwear-Women</td>\n",
       "    </tr>\n",
       "    <tr>\n",
       "      <th>3682</th>\n",
       "      <td>travel blue</td>\n",
       "      <td>unisex shielded face mask - black</td>\n",
       "      <td>NaN</td>\n",
       "      <td>149.0</td>\n",
       "      <td>149</td>\n",
       "      <td>0</td>\n",
       "      <td>Westernwear-Women</td>\n",
       "    </tr>\n",
       "    <tr>\n",
       "      <th>3744</th>\n",
       "      <td>jockey</td>\n",
       "      <td>printed cotton blend womens socks - multi</td>\n",
       "      <td>NaN</td>\n",
       "      <td>218.0</td>\n",
       "      <td>218</td>\n",
       "      <td>0</td>\n",
       "      <td>Westernwear-Women</td>\n",
       "    </tr>\n",
       "    <tr>\n",
       "      <th>3988</th>\n",
       "      <td>only</td>\n",
       "      <td>all over print polyester regular fit womens ca...</td>\n",
       "      <td>NaN</td>\n",
       "      <td>1699.0</td>\n",
       "      <td>1189</td>\n",
       "      <td>30</td>\n",
       "      <td>Westernwear-Women</td>\n",
       "    </tr>\n",
       "    <tr>\n",
       "      <th>4025</th>\n",
       "      <td>only</td>\n",
       "      <td>solid polyester regular fit womens cap - pink</td>\n",
       "      <td>NaN</td>\n",
       "      <td>1499.0</td>\n",
       "      <td>1049</td>\n",
       "      <td>30</td>\n",
       "      <td>Westernwear-Women</td>\n",
       "    </tr>\n",
       "    <tr>\n",
       "      <th>4083</th>\n",
       "      <td>only</td>\n",
       "      <td>all over print polyester regular fit womens ca...</td>\n",
       "      <td>NaN</td>\n",
       "      <td>1699.0</td>\n",
       "      <td>1189</td>\n",
       "      <td>30</td>\n",
       "      <td>Westernwear-Women</td>\n",
       "    </tr>\n",
       "    <tr>\n",
       "      <th>4118</th>\n",
       "      <td>jockey</td>\n",
       "      <td>printed ankle length cotton blend womens socks...</td>\n",
       "      <td>NaN</td>\n",
       "      <td>119.0</td>\n",
       "      <td>119</td>\n",
       "      <td>0</td>\n",
       "      <td>Westernwear-Women</td>\n",
       "    </tr>\n",
       "    <tr>\n",
       "      <th>4240</th>\n",
       "      <td>jockey</td>\n",
       "      <td>printed cotton blend womens socks - multi</td>\n",
       "      <td>NaN</td>\n",
       "      <td>278.0</td>\n",
       "      <td>278</td>\n",
       "      <td>0</td>\n",
       "      <td>Westernwear-Women</td>\n",
       "    </tr>\n",
       "    <tr>\n",
       "      <th>4362</th>\n",
       "      <td>van heusen</td>\n",
       "      <td>solid cotton regular fit womens casual face ma...</td>\n",
       "      <td>NaN</td>\n",
       "      <td>599.0</td>\n",
       "      <td>599</td>\n",
       "      <td>0</td>\n",
       "      <td>Westernwear-Women</td>\n",
       "    </tr>\n",
       "    <tr>\n",
       "      <th>4647</th>\n",
       "      <td>skechers</td>\n",
       "      <td>unisex stripe knitted ankle length socks set o...</td>\n",
       "      <td>NaN</td>\n",
       "      <td>699.0</td>\n",
       "      <td>699</td>\n",
       "      <td>0</td>\n",
       "      <td>Westernwear-Women</td>\n",
       "    </tr>\n",
       "    <tr>\n",
       "      <th>4861</th>\n",
       "      <td>jockey</td>\n",
       "      <td>solid cotton blend womens socks - multi</td>\n",
       "      <td>NaN</td>\n",
       "      <td>129.0</td>\n",
       "      <td>129</td>\n",
       "      <td>0</td>\n",
       "      <td>Westernwear-Women</td>\n",
       "    </tr>\n",
       "    <tr>\n",
       "      <th>4900</th>\n",
       "      <td>stop</td>\n",
       "      <td>womens 2 ply anti microbial reusable protectiv...</td>\n",
       "      <td>NaN</td>\n",
       "      <td>399.0</td>\n",
       "      <td>199</td>\n",
       "      <td>50</td>\n",
       "      <td>Westernwear-Women</td>\n",
       "    </tr>\n",
       "    <tr>\n",
       "      <th>4913</th>\n",
       "      <td>allen solly</td>\n",
       "      <td>womens reusable mask - pack of 4 - multi</td>\n",
       "      <td>NaN</td>\n",
       "      <td>449.0</td>\n",
       "      <td>449</td>\n",
       "      <td>0</td>\n",
       "      <td>Westernwear-Women</td>\n",
       "    </tr>\n",
       "    <tr>\n",
       "      <th>4927</th>\n",
       "      <td>allen solly</td>\n",
       "      <td>printed cotton regular fit womens face mask - ...</td>\n",
       "      <td>NaN</td>\n",
       "      <td>399.0</td>\n",
       "      <td>399</td>\n",
       "      <td>0</td>\n",
       "      <td>Westernwear-Women</td>\n",
       "    </tr>\n",
       "    <tr>\n",
       "      <th>4953</th>\n",
       "      <td>life</td>\n",
       "      <td>womens knitted casual socks - fuschia</td>\n",
       "      <td>NaN</td>\n",
       "      <td>99.0</td>\n",
       "      <td>99</td>\n",
       "      <td>0</td>\n",
       "      <td>Westernwear-Women</td>\n",
       "    </tr>\n",
       "  </tbody>\n",
       "</table>\n",
       "</div>"
      ],
      "text/plain": [
       "        BrandName                                            Details Sizes  \\\n",
       "640   get wrapped  printed polyester regular length womens casual...   NaN   \n",
       "944   allen solly  printed cotton mens face mask - pack of 3 - white   NaN   \n",
       "1195  get wrapped  printed polyester regular length womens casual...   NaN   \n",
       "1196         life  assorted cotton blend soft finishes womens soc...   NaN   \n",
       "1263         life  cotton nylon womens no show socks - pack of 3 ...   NaN   \n",
       "1409  get wrapped  printed polyester regular length womens casual...   NaN   \n",
       "1794         life  cotton nylon womens ankle sport socks - pack o...   NaN   \n",
       "1901         only             embroidered cotton womens cap - orange   NaN   \n",
       "2155         life  womens 2 ply protective face mask - pack of 5 ...   NaN   \n",
       "2342         only               embroidered cotton womens cap - blue   NaN   \n",
       "2709  get wrapped  printed polyester regular length womens casual...   NaN   \n",
       "2969         life                 womens knitted casual socks - blue   NaN   \n",
       "3043         only      solid polyester regular fit womens cap - blue   NaN   \n",
       "3344  allen solly  solid cotton regular fit womens face mask - pa...   NaN   \n",
       "3576         only      solid cotton regular fit womens socks - peach   NaN   \n",
       "3671         life                womens knitted casual socks - white   NaN   \n",
       "3682  travel blue                  unisex shielded face mask - black   NaN   \n",
       "3744       jockey          printed cotton blend womens socks - multi   NaN   \n",
       "3988         only  all over print polyester regular fit womens ca...   NaN   \n",
       "4025         only      solid polyester regular fit womens cap - pink   NaN   \n",
       "4083         only  all over print polyester regular fit womens ca...   NaN   \n",
       "4118       jockey  printed ankle length cotton blend womens socks...   NaN   \n",
       "4240       jockey          printed cotton blend womens socks - multi   NaN   \n",
       "4362   van heusen  solid cotton regular fit womens casual face ma...   NaN   \n",
       "4647     skechers  unisex stripe knitted ankle length socks set o...   NaN   \n",
       "4861       jockey            solid cotton blend womens socks - multi   NaN   \n",
       "4900         stop  womens 2 ply anti microbial reusable protectiv...   NaN   \n",
       "4913  allen solly           womens reusable mask - pack of 4 - multi   NaN   \n",
       "4927  allen solly  printed cotton regular fit womens face mask - ...   NaN   \n",
       "4953         life              womens knitted casual socks - fuschia   NaN   \n",
       "\n",
       "         MRP  SellPrice  Discount           Category  \n",
       "640    399.0        399         0  Westernwear-Women  \n",
       "944    599.0        249        58  Westernwear-Women  \n",
       "1195   399.0        399         0  Westernwear-Women  \n",
       "1196   299.0        149        50  Westernwear-Women  \n",
       "1263   249.0        124        50  Westernwear-Women  \n",
       "1409   399.0        399         0  Westernwear-Women  \n",
       "1794   299.0        149        50  Westernwear-Women  \n",
       "1901   799.0        639        20  Westernwear-Women  \n",
       "2155   149.0         74        50  Westernwear-Women  \n",
       "2342   999.0        999         0  Westernwear-Women  \n",
       "2709   399.0        399         0  Westernwear-Women  \n",
       "2969    99.0         99         0  Westernwear-Women  \n",
       "3043  1499.0       1049        30  Westernwear-Women  \n",
       "3344   599.0        599         0  Westernwear-Women  \n",
       "3576   999.0        699        30  Westernwear-Women  \n",
       "3671    99.0         99         0  Westernwear-Women  \n",
       "3682   149.0        149         0  Westernwear-Women  \n",
       "3744   218.0        218         0  Westernwear-Women  \n",
       "3988  1699.0       1189        30  Westernwear-Women  \n",
       "4025  1499.0       1049        30  Westernwear-Women  \n",
       "4083  1699.0       1189        30  Westernwear-Women  \n",
       "4118   119.0        119         0  Westernwear-Women  \n",
       "4240   278.0        278         0  Westernwear-Women  \n",
       "4362   599.0        599         0  Westernwear-Women  \n",
       "4647   699.0        699         0  Westernwear-Women  \n",
       "4861   129.0        129         0  Westernwear-Women  \n",
       "4900   399.0        199        50  Westernwear-Women  \n",
       "4913   449.0        449         0  Westernwear-Women  \n",
       "4927   399.0        399         0  Westernwear-Women  \n",
       "4953    99.0         99         0  Westernwear-Women  "
      ]
     },
     "execution_count": 93,
     "metadata": {},
     "output_type": "execute_result"
    }
   ],
   "source": [
    "df[df.Sizes.isnull()].head(30)"
   ]
  },
  {
   "cell_type": "code",
   "execution_count": 95,
   "metadata": {},
   "outputs": [
    {
     "data": {
      "text/plain": [
       "count                                  22687\n",
       "unique                                  1171\n",
       "top       Large,Medium,Small,X-Large,X-Small\n",
       "freq                                    1925\n",
       "Name: Sizes, dtype: object"
      ]
     },
     "execution_count": 95,
     "metadata": {},
     "output_type": "execute_result"
    }
   ],
   "source": [
    "df.Sizes.describe()"
   ]
  },
  {
   "cell_type": "code",
   "execution_count": 110,
   "metadata": {},
   "outputs": [],
   "source": [
    "\n",
    "SizesList = []\n",
    "for i in df.Sizes[df.Sizes.notnull()]:\n",
    "    SizesList += i.split(\",\")\n",
    "\n",
    "SizesList = pd.Series(SizesList)\n",
    "Svc = SizesList.value_counts()\n",
    "    "
   ]
  },
  {
   "cell_type": "code",
   "execution_count": 115,
   "metadata": {},
   "outputs": [
    {
     "data": {
      "text/plain": [
       "Medium       11806\n",
       "Large        11380\n",
       "Small        11133\n",
       "X-Large       9703\n",
       "X-Small       6951\n",
       "XX-Large      6331\n",
       "36            1951\n",
       "38            1513\n",
       "XXX-Large     1502\n",
       "8             1484\n",
       "34            1351\n",
       "XL            1315\n",
       "40            1282\n",
       "32            1280\n",
       "6             1225\n",
       "mall          1214\n",
       "37            1142\n",
       "28            1142\n",
       "30            1111\n",
       "10            1044\n",
       "39            1033\n",
       "               856\n",
       "12             760\n",
       "7              759\n",
       "14             737\n",
       "34-C           722\n",
       "36-C           701\n",
       "26             688\n",
       "16             681\n",
       "5              666\n",
       "dtype: int64"
      ]
     },
     "execution_count": 115,
     "metadata": {},
     "output_type": "execute_result"
    }
   ],
   "source": [
    "Svc[Svc > 100].head(30)"
   ]
  },
  {
   "cell_type": "markdown",
   "metadata": {},
   "source": [
    "bom, não sei direito ainda como lidar com essas ionformações, dado q existem 38 escalas de tamanho diferente\n",
    "temos o padrão PMGXG, uns numeros, tem o de sutiã, e outros X (anos talvez?)"
   ]
  }
 ],
 "metadata": {
  "kernelspec": {
   "display_name": "Python 3.8.8 ('base')",
   "language": "python",
   "name": "python3"
  },
  "language_info": {
   "codemirror_mode": {
    "name": "ipython",
    "version": 3
   },
   "file_extension": ".py",
   "mimetype": "text/x-python",
   "name": "python",
   "nbconvert_exporter": "python",
   "pygments_lexer": "ipython3",
   "version": "3.8.8"
  },
  "orig_nbformat": 4,
  "vscode": {
   "interpreter": {
    "hash": "ad2bdc8ecc057115af97d19610ffacc2b4e99fae6737bb82f5d7fb13d2f2c186"
   }
  }
 },
 "nbformat": 4,
 "nbformat_minor": 2
}
